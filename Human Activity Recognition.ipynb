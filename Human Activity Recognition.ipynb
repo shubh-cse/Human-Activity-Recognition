{
 "cells": [
  {
   "cell_type": "markdown",
   "metadata": {},
   "source": [
    "<h1 style=\"text-align:center\">Human Activity Recognition</h1>"
   ]
  },
  {
   "cell_type": "code",
   "execution_count": 1,
   "metadata": {
    "colab": {
     "base_uri": "https://localhost:8080/",
     "height": 34
    },
    "colab_type": "code",
    "id": "CzqYj1MhLQkm",
    "outputId": "faa538a7-dee7-4aa9-eca9-9063ce91baa4"
   },
   "outputs": [
    {
     "data": {
      "text/plain": [
       "'\\nfrom zipfile import ZipFile\\nfile_name = \"HumanActivityRecognition.zip\"\\n\\nwith ZipFile(file_name,\\'r\\') as zip:\\n  zip.extractall()\\n  print(\"Done\")\\n'"
      ]
     },
     "execution_count": 1,
     "metadata": {},
     "output_type": "execute_result"
    }
   ],
   "source": [
    "# code to unzip a file\n",
    "from zipfile import ZipFile\n",
    "file_name = \"HumanActivityRecognition.zip\"\n",
    "with ZipFile(file_name,'r') as zip:\n",
    "  zip.extractall()\n",
    "  print(\"Done\")"
   ]
  },
  {
   "cell_type": "code",
   "execution_count": 0,
   "metadata": {
    "colab": {},
    "colab_type": "code",
    "id": "TJxTyBjtaoD3"
   },
   "outputs": [],
   "source": [
    "# importing libraries\n",
    "import pandas as pd\n",
    "import numpy as np"
   ]
  },
  {
   "cell_type": "code",
   "execution_count": 0,
   "metadata": {
    "colab": {},
    "colab_type": "code",
    "id": "E4EF8Z9taxmA"
   },
   "outputs": [],
   "source": [
    "# there are total 6 human activities which are treated as the class labels \n",
    "# we need to predict these class labels\n",
    "ACTIVITIES = {\n",
    "    0: 'WALKING',\n",
    "    1: 'WALKING_UPSTAIRS',\n",
    "    2: 'WALKING_DOWNSTAIRS',\n",
    "    3: 'SITTING',\n",
    "    4: 'STANDING',\n",
    "    5: 'LAYING',\n",
    "}"
   ]
  },
  {
   "cell_type": "code",
   "execution_count": null,
   "metadata": {},
   "outputs": [],
   "source": [
    "# function to print the confusion matrix\n",
    "def confusion_matrix(Y_true, Y_pred):\n",
    "    Y_true = pd.Series([ACTIVITIES[y] for y in np.argmax(Y_true, axis=1)])\n",
    "    Y_pred = pd.Series([ACTIVITIES[y] for y in np.argmax(Y_pred, axis=1)])\n",
    "    return pd.crosstab(Y_true, Y_pred, rownames=['True'], colnames=['Pred'])"
   ]
  },
  {
   "cell_type": "code",
   "execution_count": 0,
   "metadata": {
    "colab": {},
    "colab_type": "code",
    "id": "Ff3vQK9ba9XP"
   },
   "outputs": [],
   "source": [
    "# Data directory\n",
    "DATADIR = 'UCI_HAR_Dataset'"
   ]
  },
  {
   "cell_type": "code",
   "execution_count": 0,
   "metadata": {
    "colab": {},
    "colab_type": "code",
    "id": "aU87-O3ha-uY"
   },
   "outputs": [],
   "source": [
    "# Raw data signals\n",
    "# Signals are from Accelerometer and Gyroscope\n",
    "# The signals are in x,y,z directions\n",
    "# Sensor signals are filtered to have only body acceleration\n",
    "# excluding the acceleration due to gravity\n",
    "# Triaxial acceleration from the accelerometer is total acceleration\n",
    "SIGNALS = [\n",
    "    \"body_acc_x\",\n",
    "    \"body_acc_y\",\n",
    "    \"body_acc_z\",\n",
    "    \"body_gyro_x\",\n",
    "    \"body_gyro_y\",\n",
    "    \"body_gyro_z\",\n",
    "    \"total_acc_x\",\n",
    "    \"total_acc_y\",\n",
    "    \"total_acc_z\"\n",
    "]"
   ]
  },
  {
   "cell_type": "code",
   "execution_count": 0,
   "metadata": {
    "colab": {},
    "colab_type": "code",
    "id": "SQ1Ra_ZVbCbp"
   },
   "outputs": [],
   "source": [
    "# function to read the data from csv file\n",
    "def _read_csv(filename):\n",
    "    return pd.read_csv(filename, delim_whitespace=True, header=None)\n",
    "\n",
    "# function to load the data\n",
    "def load_signals(subset):\n",
    "    signals_data = []\n",
    "    for signal in SIGNALS:\n",
    "        filename = f'HAR/UCI_HAR_Dataset/{subset}/Inertial Signals/{signal}_{subset}.txt'\n",
    "        signals_data.append(\n",
    "            _read_csv(filename).as_matrix()\n",
    "        ) \n",
    "    # transpose is used to change the dimensionality of the output,\n",
    "    # aggregating the signals by combination of sample/timestep.\n",
    "    # resultant shape is (7352 train/2947 test samples, 128 timesteps, 9 signals)\n",
    "    return np.transpose(signals_data, (1, 2, 0))"
   ]
  },
  {
   "cell_type": "code",
   "execution_count": 0,
   "metadata": {
    "colab": {},
    "colab_type": "code",
    "id": "Eb3goVnZbCdh"
   },
   "outputs": [],
   "source": [
    "def load_y(subset):\n",
    "    \"\"\"\n",
    "    The objective that we are trying to predict is a integer, from 1 to 6,\n",
    "    that represents a human activity. We return a binary representation of \n",
    "    every sample objective as a 6 bits vector using One Hot Encoding\n",
    "    (https://pandas.pydata.org/pandas-docs/stable/generated/pandas.get_dummies.html)\n",
    "    \"\"\"\n",
    "    filename = f'HAR/UCI_HAR_Dataset/{subset}/y_{subset}.txt'\n",
    "    y = _read_csv(filename)[0]\n",
    "    return pd.get_dummies(y).as_matrix()"
   ]
  },
  {
   "cell_type": "code",
   "execution_count": 0,
   "metadata": {
    "colab": {},
    "colab_type": "code",
    "id": "HRcpmSfIbCgf"
   },
   "outputs": [],
   "source": [
    "def load_data():\n",
    "    \"\"\"\n",
    "    Obtain the dataset from multiple files.\n",
    "    Returns: X_train, X_test, y_train, y_test\n",
    "    \"\"\"\n",
    "    X_train, X_test = load_signals('train'), load_signals('test')\n",
    "    y_train, y_test = load_y('train'), load_y('test')\n",
    "    return X_train, X_test, y_train, y_test"
   ]
  },
  {
   "cell_type": "code",
   "execution_count": 0,
   "metadata": {
    "colab": {},
    "colab_type": "code",
    "id": "QX-YmopcbC2d"
   },
   "outputs": [],
   "source": [
    "# importing tensorflow\n",
    "np.random.seed(42)\n",
    "import tensorflow as tf\n",
    "tf.set_random_seed(42)"
   ]
  },
  {
   "cell_type": "code",
   "execution_count": 0,
   "metadata": {
    "colab": {},
    "colab_type": "code",
    "id": "sfxf5eSlbC46"
   },
   "outputs": [],
   "source": [
    "# configuring a session\n",
    "session_conf = tf.ConfigProto(\n",
    "    intra_op_parallelism_threads=1,\n",
    "    inter_op_parallelism_threads=1\n",
    ")"
   ]
  },
  {
   "cell_type": "code",
   "execution_count": 0,
   "metadata": {
    "colab": {
     "base_uri": "https://localhost:8080/",
     "height": 34
    },
    "colab_type": "code",
    "id": "5YIQ1Pw2bC7-",
    "outputId": "74a2cf7e-d8f6-41e1-dba5-4b9140e85432"
   },
   "outputs": [
    {
     "name": "stderr",
     "output_type": "stream",
     "text": [
      "Using TensorFlow backend.\n"
     ]
    }
   ],
   "source": [
    "# import Keras\n",
    "from keras import backend as K\n",
    "sess = tf.Session(graph=tf.get_default_graph(), config=session_conf)\n",
    "K.set_session(sess)"
   ]
  },
  {
   "cell_type": "code",
   "execution_count": 0,
   "metadata": {
    "colab": {},
    "colab_type": "code",
    "id": "y8L1QdRtburu"
   },
   "outputs": [],
   "source": [
    "# importing libraries\n",
    "from keras.models import Sequential\n",
    "from keras.layers import LSTM\n",
    "from keras.layers.core import Dense, Dropout"
   ]
  },
  {
   "cell_type": "code",
   "execution_count": 0,
   "metadata": {
    "colab": {},
    "colab_type": "code",
    "id": "EVmAYyY7bu19"
   },
   "outputs": [],
   "source": [
    "# initializing parameters\n",
    "epochs = 30\n",
    "batch_size = 16\n",
    "n_hidden = 32"
   ]
  },
  {
   "cell_type": "code",
   "execution_count": 0,
   "metadata": {
    "colab": {},
    "colab_type": "code",
    "id": "YWVjwi4Ubu32"
   },
   "outputs": [],
   "source": [
    "# function to count the number of classes\n",
    "def _count_classes(y):\n",
    "    return len(set([tuple(category) for category in y]))"
   ]
  },
  {
   "cell_type": "code",
   "execution_count": 0,
   "metadata": {
    "colab": {},
    "colab_type": "code",
    "id": "z-7q4Sx9bu5u"
   },
   "outputs": [],
   "source": [
    "# Loading the train and test data\n",
    "X_train, X_test, Y_train, Y_test = load_data()"
   ]
  },
  {
   "cell_type": "code",
   "execution_count": 0,
   "metadata": {
    "colab": {
     "base_uri": "https://localhost:8080/",
     "height": 67
    },
    "colab_type": "code",
    "id": "BVYmcxdMbu7j",
    "outputId": "8d3a621a-1bb5-4d7c-ab43-d4f07cfe9991"
   },
   "outputs": [
    {
     "name": "stdout",
     "output_type": "stream",
     "text": [
      "128\n",
      "9\n",
      "7352\n"
     ]
    }
   ],
   "source": [
    "timesteps = len(X_train[0])\n",
    "input_dim = len(X_train[0][0])\n",
    "n_classes = _count_classes(Y_train)\n",
    "\n",
    "print(timesteps)\n",
    "print(input_dim)\n",
    "print(len(X_train))"
   ]
  },
  {
   "cell_type": "markdown",
   "metadata": {
    "colab_type": "text",
    "id": "_F2fbW9vNGDZ"
   },
   "source": [
    "<h1>MODEL 1 :- 1 LSTM with 32 hidden layers and 'rmsprop' optimizer</h1>"
   ]
  },
  {
   "cell_type": "code",
   "execution_count": 0,
   "metadata": {
    "colab": {
     "base_uri": "https://localhost:8080/",
     "height": 356
    },
    "colab_type": "code",
    "id": "8KlA58uqbu9b",
    "outputId": "068e2661-513c-4fce-e278-b25f45e687d5"
   },
   "outputs": [
    {
     "name": "stdout",
     "output_type": "stream",
     "text": [
      "WARNING:tensorflow:From /usr/local/lib/python3.6/dist-packages/tensorflow/python/framework/op_def_library.py:263: colocate_with (from tensorflow.python.framework.ops) is deprecated and will be removed in a future version.\n",
      "Instructions for updating:\n",
      "Colocations handled automatically by placer.\n",
      "WARNING:tensorflow:From /usr/local/lib/python3.6/dist-packages/keras/backend/tensorflow_backend.py:3445: calling dropout (from tensorflow.python.ops.nn_ops) with keep_prob is deprecated and will be removed in a future version.\n",
      "Instructions for updating:\n",
      "Please use `rate` instead of `keep_prob`. Rate should be set to `rate = 1 - keep_prob`.\n",
      "_________________________________________________________________\n",
      "Layer (type)                 Output Shape              Param #   \n",
      "=================================================================\n",
      "lstm_1 (LSTM)                (None, 32)                5376      \n",
      "_________________________________________________________________\n",
      "dropout_1 (Dropout)          (None, 32)                0         \n",
      "_________________________________________________________________\n",
      "dense_1 (Dense)              (None, 6)                 198       \n",
      "=================================================================\n",
      "Total params: 5,574\n",
      "Trainable params: 5,574\n",
      "Non-trainable params: 0\n",
      "_________________________________________________________________\n"
     ]
    }
   ],
   "source": [
    "# initiliazing the sequential model\n",
    "model = Sequential()\n",
    "# configuring the parameters\n",
    "model.add(LSTM(n_hidden, input_shape=(timesteps, input_dim)))\n",
    "# adding a dropout layer\n",
    "model.add(Dropout(0.5))\n",
    "# adding a dense output layer with sigmoid activation\n",
    "model.add(Dense(n_classes, activation='sigmoid'))\n",
    "model.summary()"
   ]
  },
  {
   "cell_type": "code",
   "execution_count": 0,
   "metadata": {
    "colab": {},
    "colab_type": "code",
    "id": "TiPnB9_Zbu_r"
   },
   "outputs": [],
   "source": [
    "# compiling the model\n",
    "model.compile(loss='categorical_crossentropy',\n",
    "              optimizer='rmsprop',\n",
    "              metrics=['accuracy'])"
   ]
  },
  {
   "cell_type": "code",
   "execution_count": 0,
   "metadata": {
    "colab": {
     "base_uri": "https://localhost:8080/",
     "height": 1129
    },
    "colab_type": "code",
    "id": "0MHq8beNbvB7",
    "outputId": "18a6249b-5e55-4ce5-f99a-4a20d813bf34"
   },
   "outputs": [
    {
     "name": "stdout",
     "output_type": "stream",
     "text": [
      "WARNING:tensorflow:From /usr/local/lib/python3.6/dist-packages/tensorflow/python/ops/math_ops.py:3066: to_int32 (from tensorflow.python.ops.math_ops) is deprecated and will be removed in a future version.\n",
      "Instructions for updating:\n",
      "Use tf.cast instead.\n",
      "Train on 7352 samples, validate on 2947 samples\n",
      "Epoch 1/30\n",
      "7352/7352 [==============================] - 28s 4ms/step - loss: 1.3187 - acc: 0.4366 - val_loss: 1.1297 - val_acc: 0.4815\n",
      "Epoch 2/30\n",
      "7352/7352 [==============================] - 27s 4ms/step - loss: 0.9571 - acc: 0.5898 - val_loss: 0.8921 - val_acc: 0.5898\n",
      "Epoch 3/30\n",
      "7352/7352 [==============================] - 28s 4ms/step - loss: 0.7675 - acc: 0.6510 - val_loss: 0.7696 - val_acc: 0.6098\n",
      "Epoch 4/30\n",
      "7352/7352 [==============================] - 28s 4ms/step - loss: 0.6663 - acc: 0.6800 - val_loss: 0.7184 - val_acc: 0.6271\n",
      "Epoch 5/30\n",
      "7352/7352 [==============================] - 28s 4ms/step - loss: 0.6172 - acc: 0.7137 - val_loss: 0.8463 - val_acc: 0.6899\n",
      "Epoch 6/30\n",
      "7352/7352 [==============================] - 27s 4ms/step - loss: 0.5785 - acc: 0.7505 - val_loss: 0.6704 - val_acc: 0.7275\n",
      "Epoch 7/30\n",
      "7352/7352 [==============================] - 27s 4ms/step - loss: 0.5228 - acc: 0.7708 - val_loss: 0.6132 - val_acc: 0.7367\n",
      "Epoch 8/30\n",
      "7352/7352 [==============================] - 28s 4ms/step - loss: 0.4985 - acc: 0.7783 - val_loss: 0.6142 - val_acc: 0.7340\n",
      "Epoch 9/30\n",
      "7352/7352 [==============================] - 27s 4ms/step - loss: 0.4529 - acc: 0.7911 - val_loss: 0.5296 - val_acc: 0.7577\n",
      "Epoch 10/30\n",
      "7352/7352 [==============================] - 28s 4ms/step - loss: 0.4232 - acc: 0.7984 - val_loss: 0.4918 - val_acc: 0.7615\n",
      "Epoch 11/30\n",
      "7352/7352 [==============================] - 27s 4ms/step - loss: 0.4247 - acc: 0.8022 - val_loss: 0.4808 - val_acc: 0.7635\n",
      "Epoch 12/30\n",
      "7352/7352 [==============================] - 27s 4ms/step - loss: 0.3857 - acc: 0.8220 - val_loss: 0.4820 - val_acc: 0.7784\n",
      "Epoch 13/30\n",
      "7352/7352 [==============================] - 27s 4ms/step - loss: 0.3770 - acc: 0.8550 - val_loss: 0.5941 - val_acc: 0.8493\n",
      "Epoch 14/30\n",
      "7352/7352 [==============================] - 27s 4ms/step - loss: 0.3221 - acc: 0.8985 - val_loss: 0.4178 - val_acc: 0.8704\n",
      "Epoch 15/30\n",
      "7352/7352 [==============================] - 28s 4ms/step - loss: 0.2868 - acc: 0.9174 - val_loss: 0.5336 - val_acc: 0.8480\n",
      "Epoch 16/30\n",
      "7352/7352 [==============================] - 28s 4ms/step - loss: 0.2709 - acc: 0.9196 - val_loss: 0.3344 - val_acc: 0.8870\n",
      "Epoch 17/30\n",
      "7352/7352 [==============================] - 27s 4ms/step - loss: 0.2342 - acc: 0.9268 - val_loss: 0.3331 - val_acc: 0.8924\n",
      "Epoch 18/30\n",
      "7352/7352 [==============================] - 27s 4ms/step - loss: 0.2394 - acc: 0.9316 - val_loss: 0.4471 - val_acc: 0.8714\n",
      "Epoch 19/30\n",
      "7352/7352 [==============================] - 27s 4ms/step - loss: 0.2469 - acc: 0.9335 - val_loss: 0.3921 - val_acc: 0.9016\n",
      "Epoch 20/30\n",
      "7352/7352 [==============================] - 27s 4ms/step - loss: 0.2128 - acc: 0.9361 - val_loss: 0.3706 - val_acc: 0.8856\n",
      "Epoch 21/30\n",
      "7352/7352 [==============================] - 28s 4ms/step - loss: 0.2221 - acc: 0.9355 - val_loss: 0.5012 - val_acc: 0.8633\n",
      "Epoch 22/30\n",
      "7352/7352 [==============================] - 27s 4ms/step - loss: 0.2336 - acc: 0.9327 - val_loss: 0.3760 - val_acc: 0.8914\n",
      "Epoch 23/30\n",
      "7352/7352 [==============================] - 28s 4ms/step - loss: 0.2399 - acc: 0.9354 - val_loss: 0.5161 - val_acc: 0.8734\n",
      "Epoch 24/30\n",
      "7352/7352 [==============================] - 28s 4ms/step - loss: 0.1782 - acc: 0.9423 - val_loss: 0.2956 - val_acc: 0.9023\n",
      "Epoch 25/30\n",
      "7352/7352 [==============================] - 28s 4ms/step - loss: 0.1670 - acc: 0.9468 - val_loss: 0.3247 - val_acc: 0.8819\n",
      "Epoch 26/30\n",
      "7352/7352 [==============================] - 28s 4ms/step - loss: 0.1662 - acc: 0.9471 - val_loss: 0.3546 - val_acc: 0.9046\n",
      "Epoch 27/30\n",
      "7352/7352 [==============================] - 29s 4ms/step - loss: 0.1972 - acc: 0.9402 - val_loss: 0.2943 - val_acc: 0.9125\n",
      "Epoch 28/30\n",
      "7352/7352 [==============================] - 28s 4ms/step - loss: 0.1744 - acc: 0.9444 - val_loss: 0.2239 - val_acc: 0.9253\n",
      "Epoch 29/30\n",
      "7352/7352 [==============================] - 28s 4ms/step - loss: 0.1544 - acc: 0.9493 - val_loss: 0.3135 - val_acc: 0.9237\n",
      "Epoch 30/30\n",
      "7352/7352 [==============================] - 27s 4ms/step - loss: 0.2026 - acc: 0.9377 - val_loss: 0.3421 - val_acc: 0.9063\n"
     ]
    },
    {
     "data": {
      "text/plain": [
       "<keras.callbacks.History at 0x7fab647f24a8>"
      ]
     },
     "execution_count": 19,
     "metadata": {
      "tags": []
     },
     "output_type": "execute_result"
    }
   ],
   "source": [
    "# training the model\n",
    "model.fit(X_train,\n",
    "          Y_train,\n",
    "          batch_size=batch_size,\n",
    "          validation_data=(X_test, Y_test),\n",
    "          epochs=epochs)"
   ]
  },
  {
   "cell_type": "code",
   "execution_count": 0,
   "metadata": {
    "colab": {
     "base_uri": "https://localhost:8080/",
     "height": 302
    },
    "colab_type": "code",
    "id": "8ci84ISrbvEi",
    "outputId": "5a50e136-6863-450a-b1a4-a84d02310e74"
   },
   "outputs": [
    {
     "name": "stdout",
     "output_type": "stream",
     "text": [
      "Pred                LAYING  SITTING  STANDING  WALKING  WALKING_DOWNSTAIRS  \\\n",
      "True                                                                         \n",
      "LAYING                 510        0        27        0                   0   \n",
      "SITTING                  2      375       113        0                   0   \n",
      "STANDING                 0       54       474        4                   0   \n",
      "WALKING                  0        8        10      467                   2   \n",
      "WALKING_DOWNSTAIRS       0        0         0        0                 408   \n",
      "WALKING_UPSTAIRS         0       12         7        5                  10   \n",
      "\n",
      "Pred                WALKING_UPSTAIRS  \n",
      "True                                  \n",
      "LAYING                             0  \n",
      "SITTING                            1  \n",
      "STANDING                           0  \n",
      "WALKING                            9  \n",
      "WALKING_DOWNSTAIRS                12  \n",
      "WALKING_UPSTAIRS                 437  \n"
     ]
    }
   ],
   "source": [
    "# confusion Matrix\n",
    "print(confusion_matrix(Y_test, model.predict(X_test)))"
   ]
  },
  {
   "cell_type": "code",
   "execution_count": 0,
   "metadata": {
    "colab": {
     "base_uri": "https://localhost:8080/",
     "height": 34
    },
    "colab_type": "code",
    "id": "2Sc4WXhlbvRm",
    "outputId": "1eb0df47-a3f9-4d2a-d6e6-0bd4be66f190"
   },
   "outputs": [
    {
     "name": "stdout",
     "output_type": "stream",
     "text": [
      "2947/2947 [==============================] - 1s 338us/step\n"
     ]
    }
   ],
   "source": [
    "score = model.evaluate(X_test, Y_test)"
   ]
  },
  {
   "cell_type": "code",
   "execution_count": 0,
   "metadata": {
    "colab": {
     "base_uri": "https://localhost:8080/",
     "height": 34
    },
    "colab_type": "code",
    "id": "rDEnrSuCfmZZ",
    "outputId": "2c0f499c-9675-4471-ff87-2829f9fd72bb"
   },
   "outputs": [
    {
     "data": {
      "text/plain": [
       "[0.3421370585869036, 0.9063454360366474]"
      ]
     },
     "execution_count": 22,
     "metadata": {
      "tags": []
     },
     "output_type": "execute_result"
    }
   ],
   "source": [
    "score"
   ]
  },
  {
   "cell_type": "markdown",
   "metadata": {
    "colab_type": "text",
    "id": "JSQWECUkNmfk"
   },
   "source": [
    "<h1>MODEL 2 : 1 LSTM with 32 hidden layers and 'adam' optimizer</h1>"
   ]
  },
  {
   "cell_type": "code",
   "execution_count": 0,
   "metadata": {
    "colab": {
     "base_uri": "https://localhost:8080/",
     "height": 235
    },
    "colab_type": "code",
    "id": "iyNITe6MO4wH",
    "outputId": "d0d2a53d-06da-43be-8d54-35ef43aa3e40"
   },
   "outputs": [
    {
     "name": "stdout",
     "output_type": "stream",
     "text": [
      "_________________________________________________________________\n",
      "Layer (type)                 Output Shape              Param #   \n",
      "=================================================================\n",
      "lstm_2 (LSTM)                (None, 32)                5376      \n",
      "_________________________________________________________________\n",
      "dropout_2 (Dropout)          (None, 32)                0         \n",
      "_________________________________________________________________\n",
      "dense_2 (Dense)              (None, 6)                 198       \n",
      "=================================================================\n",
      "Total params: 5,574\n",
      "Trainable params: 5,574\n",
      "Non-trainable params: 0\n",
      "_________________________________________________________________\n"
     ]
    }
   ],
   "source": [
    "# initiliazing the sequential model\n",
    "model = Sequential()\n",
    "# configuring the parameters\n",
    "model.add(LSTM(n_hidden, input_shape=(timesteps, input_dim)))\n",
    "# adding a dropout layer\n",
    "model.add(Dropout(0.5))\n",
    "# adding a dense output layer with sigmoid activation\n",
    "model.add(Dense(n_classes, activation='sigmoid'))\n",
    "model.summary()"
   ]
  },
  {
   "cell_type": "code",
   "execution_count": 0,
   "metadata": {
    "colab": {},
    "colab_type": "code",
    "id": "dufpPuk7PPXt"
   },
   "outputs": [],
   "source": [
    "# compiling the model\n",
    "model.compile(loss='categorical_crossentropy',\n",
    "              optimizer='adam',\n",
    "              metrics=['accuracy'])"
   ]
  },
  {
   "cell_type": "code",
   "execution_count": 0,
   "metadata": {
    "colab": {
     "base_uri": "https://localhost:8080/",
     "height": 1058
    },
    "colab_type": "code",
    "id": "gv-BkGptPPaA",
    "outputId": "dbda2010-2436-4aa2-ba8c-734228e6d07e"
   },
   "outputs": [
    {
     "name": "stdout",
     "output_type": "stream",
     "text": [
      "Train on 7352 samples, validate on 2947 samples\n",
      "Epoch 1/30\n",
      "7352/7352 [==============================] - 29s 4ms/step - loss: 1.3789 - acc: 0.4159 - val_loss: 1.2244 - val_acc: 0.4723\n",
      "Epoch 2/30\n",
      "7352/7352 [==============================] - 27s 4ms/step - loss: 1.2241 - acc: 0.4512 - val_loss: 1.2673 - val_acc: 0.4164\n",
      "Epoch 3/30\n",
      "7352/7352 [==============================] - 28s 4ms/step - loss: 1.1998 - acc: 0.4557 - val_loss: 1.4244 - val_acc: 0.3610\n",
      "Epoch 4/30\n",
      "7352/7352 [==============================] - 27s 4ms/step - loss: 1.2836 - acc: 0.4115 - val_loss: 1.3771 - val_acc: 0.4018\n",
      "Epoch 5/30\n",
      "7352/7352 [==============================] - 27s 4ms/step - loss: 1.2467 - acc: 0.4285 - val_loss: 1.2943 - val_acc: 0.4143\n",
      "Epoch 6/30\n",
      "7352/7352 [==============================] - 27s 4ms/step - loss: 1.2174 - acc: 0.4343 - val_loss: 1.2652 - val_acc: 0.4751\n",
      "Epoch 7/30\n",
      "7352/7352 [==============================] - 27s 4ms/step - loss: 1.1803 - acc: 0.4653 - val_loss: 1.0857 - val_acc: 0.5263\n",
      "Epoch 8/30\n",
      "7352/7352 [==============================] - 27s 4ms/step - loss: 1.2004 - acc: 0.4808 - val_loss: 1.0582 - val_acc: 0.5022\n",
      "Epoch 9/30\n",
      "7352/7352 [==============================] - 28s 4ms/step - loss: 0.8828 - acc: 0.5766 - val_loss: 0.8058 - val_acc: 0.6098\n",
      "Epoch 10/30\n",
      "7352/7352 [==============================] - 28s 4ms/step - loss: 0.8125 - acc: 0.6098 - val_loss: 0.8435 - val_acc: 0.5494\n",
      "Epoch 11/30\n",
      "7352/7352 [==============================] - 27s 4ms/step - loss: 0.7573 - acc: 0.6300 - val_loss: 0.7244 - val_acc: 0.6787\n",
      "Epoch 12/30\n",
      "7352/7352 [==============================] - 27s 4ms/step - loss: 0.7808 - acc: 0.6474 - val_loss: 0.7787 - val_acc: 0.6362\n",
      "Epoch 13/30\n",
      "7352/7352 [==============================] - 28s 4ms/step - loss: 0.7114 - acc: 0.6575 - val_loss: 0.7309 - val_acc: 0.6464\n",
      "Epoch 14/30\n",
      "7352/7352 [==============================] - 27s 4ms/step - loss: 0.6731 - acc: 0.6619 - val_loss: 0.7824 - val_acc: 0.6216\n",
      "Epoch 15/30\n",
      "7352/7352 [==============================] - 27s 4ms/step - loss: 0.6771 - acc: 0.6721 - val_loss: 0.7524 - val_acc: 0.6172\n",
      "Epoch 16/30\n",
      "7352/7352 [==============================] - 27s 4ms/step - loss: 0.6397 - acc: 0.7161 - val_loss: 0.6419 - val_acc: 0.7248\n",
      "Epoch 17/30\n",
      "7352/7352 [==============================] - 28s 4ms/step - loss: 0.5586 - acc: 0.7748 - val_loss: 0.5713 - val_acc: 0.7801\n",
      "Epoch 18/30\n",
      "7352/7352 [==============================] - 28s 4ms/step - loss: 0.5633 - acc: 0.7703 - val_loss: 0.6108 - val_acc: 0.7784\n",
      "Epoch 19/30\n",
      "7352/7352 [==============================] - 27s 4ms/step - loss: 0.4644 - acc: 0.8305 - val_loss: 0.6233 - val_acc: 0.7900\n",
      "Epoch 20/30\n",
      "7352/7352 [==============================] - 27s 4ms/step - loss: 0.4936 - acc: 0.8243 - val_loss: 0.5626 - val_acc: 0.7974\n",
      "Epoch 21/30\n",
      "7352/7352 [==============================] - 27s 4ms/step - loss: 0.4257 - acc: 0.8726 - val_loss: 0.7670 - val_acc: 0.7262\n",
      "Epoch 22/30\n",
      "7352/7352 [==============================] - 27s 4ms/step - loss: 0.7195 - acc: 0.7695 - val_loss: 0.4901 - val_acc: 0.8303\n",
      "Epoch 23/30\n",
      "7352/7352 [==============================] - 28s 4ms/step - loss: 0.4439 - acc: 0.8558 - val_loss: 0.4337 - val_acc: 0.8432\n",
      "Epoch 24/30\n",
      "7352/7352 [==============================] - 27s 4ms/step - loss: 0.3196 - acc: 0.9038 - val_loss: 0.3755 - val_acc: 0.8649\n",
      "Epoch 25/30\n",
      "7352/7352 [==============================] - 27s 4ms/step - loss: 0.3126 - acc: 0.9013 - val_loss: 0.4019 - val_acc: 0.8297\n",
      "Epoch 26/30\n",
      "7352/7352 [==============================] - 28s 4ms/step - loss: 0.2890 - acc: 0.9101 - val_loss: 0.4524 - val_acc: 0.8463\n",
      "Epoch 27/30\n",
      "7352/7352 [==============================] - 27s 4ms/step - loss: 0.2510 - acc: 0.9233 - val_loss: 0.3331 - val_acc: 0.8965\n",
      "Epoch 28/30\n",
      "7352/7352 [==============================] - 27s 4ms/step - loss: 0.2638 - acc: 0.9176 - val_loss: 0.2892 - val_acc: 0.8921\n",
      "Epoch 29/30\n",
      "7352/7352 [==============================] - 28s 4ms/step - loss: 0.2410 - acc: 0.9295 - val_loss: 0.3497 - val_acc: 0.8860\n",
      "Epoch 30/30\n",
      "7352/7352 [==============================] - 27s 4ms/step - loss: 0.2263 - acc: 0.9302 - val_loss: 0.3264 - val_acc: 0.8948\n"
     ]
    },
    {
     "data": {
      "text/plain": [
       "<keras.callbacks.History at 0x7fab63428b70>"
      ]
     },
     "execution_count": 25,
     "metadata": {
      "tags": []
     },
     "output_type": "execute_result"
    }
   ],
   "source": [
    "# training the model\n",
    "model.fit(X_train,\n",
    "          Y_train,\n",
    "          batch_size=batch_size,\n",
    "          validation_data=(X_test, Y_test),\n",
    "          epochs=epochs)"
   ]
  },
  {
   "cell_type": "code",
   "execution_count": 0,
   "metadata": {
    "colab": {
     "base_uri": "https://localhost:8080/",
     "height": 302
    },
    "colab_type": "code",
    "id": "JRfWyBYQPPcM",
    "outputId": "37ab6f2a-85e6-4bfa-c8c0-4e0eb664f661"
   },
   "outputs": [
    {
     "name": "stdout",
     "output_type": "stream",
     "text": [
      "Pred                LAYING  SITTING  STANDING  WALKING  WALKING_DOWNSTAIRS  \\\n",
      "True                                                                         \n",
      "LAYING                 510        0         0        0                   0   \n",
      "SITTING                  1      405        78        0                   0   \n",
      "STANDING                 0      103       427        2                   0   \n",
      "WALKING                  0        0         0      464                  28   \n",
      "WALKING_DOWNSTAIRS       0        0         0        2                 409   \n",
      "WALKING_UPSTAIRS         0        0         1       21                  27   \n",
      "\n",
      "Pred                WALKING_UPSTAIRS  \n",
      "True                                  \n",
      "LAYING                            27  \n",
      "SITTING                            7  \n",
      "STANDING                           0  \n",
      "WALKING                            4  \n",
      "WALKING_DOWNSTAIRS                 9  \n",
      "WALKING_UPSTAIRS                 422  \n"
     ]
    }
   ],
   "source": [
    "# confusion Matrix\n",
    "print(confusion_matrix(Y_test, model.predict(X_test)))"
   ]
  },
  {
   "cell_type": "code",
   "execution_count": 0,
   "metadata": {
    "colab": {
     "base_uri": "https://localhost:8080/",
     "height": 34
    },
    "colab_type": "code",
    "id": "A5f6SrpaPPeO",
    "outputId": "281757ae-f1b4-4046-94ca-011cfb740c51"
   },
   "outputs": [
    {
     "name": "stdout",
     "output_type": "stream",
     "text": [
      "2947/2947 [==============================] - 1s 340us/step\n"
     ]
    }
   ],
   "source": [
    "score = model.evaluate(X_test, Y_test)"
   ]
  },
  {
   "cell_type": "code",
   "execution_count": 0,
   "metadata": {
    "colab": {
     "base_uri": "https://localhost:8080/",
     "height": 34
    },
    "colab_type": "code",
    "id": "wBge8BnlPPhK",
    "outputId": "62c8b5b9-f606-4cc7-879b-0b6cd690bdac"
   },
   "outputs": [
    {
     "data": {
      "text/plain": [
       "[0.3263602286097184, 0.8948082796063793]"
      ]
     },
     "execution_count": 28,
     "metadata": {
      "tags": []
     },
     "output_type": "execute_result"
    }
   ],
   "source": [
    "score"
   ]
  },
  {
   "cell_type": "markdown",
   "metadata": {
    "colab_type": "text",
    "id": "KwRZmRU6QKvR"
   },
   "source": [
    "<h1>MODEL 3 :- 1 LSTM with 64 hidden layers and 'rmsprop' optimizer</h1>"
   ]
  },
  {
   "cell_type": "code",
   "execution_count": 0,
   "metadata": {
    "colab": {
     "base_uri": "https://localhost:8080/",
     "height": 235
    },
    "colab_type": "code",
    "id": "s_vcHfEUQTp7",
    "outputId": "ce529c22-709e-4953-d39e-22390f62c931"
   },
   "outputs": [
    {
     "name": "stdout",
     "output_type": "stream",
     "text": [
      "_________________________________________________________________\n",
      "Layer (type)                 Output Shape              Param #   \n",
      "=================================================================\n",
      "lstm_3 (LSTM)                (None, 64)                18944     \n",
      "_________________________________________________________________\n",
      "dropout_3 (Dropout)          (None, 64)                0         \n",
      "_________________________________________________________________\n",
      "dense_3 (Dense)              (None, 6)                 390       \n",
      "=================================================================\n",
      "Total params: 19,334\n",
      "Trainable params: 19,334\n",
      "Non-trainable params: 0\n",
      "_________________________________________________________________\n"
     ]
    }
   ],
   "source": [
    "# initiliazing the sequential model\n",
    "n_hidden = 64\n",
    "model = Sequential()\n",
    "# configuring the parameters\n",
    "model.add(LSTM(n_hidden, input_shape=(timesteps, input_dim)))\n",
    "# adding a dropout layer\n",
    "model.add(Dropout(0.5))\n",
    "# adding a dense output layer with sigmoid activation\n",
    "model.add(Dense(n_classes, activation='sigmoid'))\n",
    "model.summary()"
   ]
  },
  {
   "cell_type": "code",
   "execution_count": 0,
   "metadata": {
    "colab": {},
    "colab_type": "code",
    "id": "JxN3E1c7QTtt"
   },
   "outputs": [],
   "source": [
    "# compiling the model\n",
    "model.compile(loss='categorical_crossentropy',\n",
    "              optimizer='rmsprop',\n",
    "              metrics=['accuracy'])"
   ]
  },
  {
   "cell_type": "code",
   "execution_count": 0,
   "metadata": {
    "colab": {
     "base_uri": "https://localhost:8080/",
     "height": 1058
    },
    "colab_type": "code",
    "id": "Mz20ia50RKni",
    "outputId": "39863403-50a3-4dc1-a82d-46328fa36013"
   },
   "outputs": [
    {
     "name": "stdout",
     "output_type": "stream",
     "text": [
      "Train on 7352 samples, validate on 2947 samples\n",
      "Epoch 1/30\n",
      "7352/7352 [==============================] - 37s 5ms/step - loss: 1.2375 - acc: 0.4504 - val_loss: 1.1631 - val_acc: 0.4489\n",
      "Epoch 2/30\n",
      "7352/7352 [==============================] - 35s 5ms/step - loss: 0.9816 - acc: 0.5809 - val_loss: 0.9082 - val_acc: 0.6254\n",
      "Epoch 3/30\n",
      "7352/7352 [==============================] - 34s 5ms/step - loss: 0.8381 - acc: 0.6296 - val_loss: 0.9560 - val_acc: 0.6396\n",
      "Epoch 4/30\n",
      "7352/7352 [==============================] - 35s 5ms/step - loss: 0.8333 - acc: 0.6552 - val_loss: 0.7277 - val_acc: 0.7106\n",
      "Epoch 5/30\n",
      "7352/7352 [==============================] - 35s 5ms/step - loss: 0.6197 - acc: 0.7518 - val_loss: 0.7702 - val_acc: 0.7421\n",
      "Epoch 6/30\n",
      "7352/7352 [==============================] - 35s 5ms/step - loss: 0.4471 - acc: 0.8489 - val_loss: 0.5738 - val_acc: 0.8246\n",
      "Epoch 7/30\n",
      "7352/7352 [==============================] - 35s 5ms/step - loss: 0.3394 - acc: 0.8866 - val_loss: 0.4992 - val_acc: 0.8381\n",
      "Epoch 8/30\n",
      "7352/7352 [==============================] - 35s 5ms/step - loss: 0.2758 - acc: 0.9078 - val_loss: 0.5919 - val_acc: 0.8449\n",
      "Epoch 9/30\n",
      "7352/7352 [==============================] - 35s 5ms/step - loss: 0.2505 - acc: 0.9174 - val_loss: 0.5195 - val_acc: 0.8707\n",
      "Epoch 10/30\n",
      "7352/7352 [==============================] - 35s 5ms/step - loss: 0.2357 - acc: 0.9240 - val_loss: 0.3875 - val_acc: 0.8761\n",
      "Epoch 11/30\n",
      "7352/7352 [==============================] - 35s 5ms/step - loss: 0.2112 - acc: 0.9317 - val_loss: 0.3338 - val_acc: 0.8999\n",
      "Epoch 12/30\n",
      "7352/7352 [==============================] - 34s 5ms/step - loss: 0.2082 - acc: 0.9286 - val_loss: 0.4759 - val_acc: 0.8758\n",
      "Epoch 13/30\n",
      "7352/7352 [==============================] - 34s 5ms/step - loss: 0.1734 - acc: 0.9374 - val_loss: 0.3500 - val_acc: 0.9104\n",
      "Epoch 14/30\n",
      "7352/7352 [==============================] - 35s 5ms/step - loss: 0.1817 - acc: 0.9406 - val_loss: 0.4787 - val_acc: 0.8911\n",
      "Epoch 15/30\n",
      "7352/7352 [==============================] - 35s 5ms/step - loss: 0.1801 - acc: 0.9346 - val_loss: 0.3459 - val_acc: 0.8935\n",
      "Epoch 16/30\n",
      "7352/7352 [==============================] - 35s 5ms/step - loss: 0.1588 - acc: 0.9416 - val_loss: 0.3443 - val_acc: 0.8982\n",
      "Epoch 17/30\n",
      "7352/7352 [==============================] - 35s 5ms/step - loss: 0.1515 - acc: 0.9461 - val_loss: 0.4078 - val_acc: 0.8968\n",
      "Epoch 18/30\n",
      "7352/7352 [==============================] - 34s 5ms/step - loss: 0.1446 - acc: 0.9444 - val_loss: 0.3520 - val_acc: 0.9036\n",
      "Epoch 19/30\n",
      "7352/7352 [==============================] - 34s 5ms/step - loss: 0.1511 - acc: 0.9434 - val_loss: 0.4394 - val_acc: 0.9057\n",
      "Epoch 20/30\n",
      "7352/7352 [==============================] - 34s 5ms/step - loss: 0.1407 - acc: 0.9490 - val_loss: 0.4261 - val_acc: 0.9043\n",
      "Epoch 21/30\n",
      "7352/7352 [==============================] - 34s 5ms/step - loss: 0.1472 - acc: 0.9480 - val_loss: 0.3727 - val_acc: 0.9013\n",
      "Epoch 22/30\n",
      "7352/7352 [==============================] - 34s 5ms/step - loss: 0.1446 - acc: 0.9456 - val_loss: 0.3586 - val_acc: 0.9141\n",
      "Epoch 23/30\n",
      "7352/7352 [==============================] - 35s 5ms/step - loss: 0.1456 - acc: 0.9482 - val_loss: 0.4191 - val_acc: 0.9060\n",
      "Epoch 24/30\n",
      "7352/7352 [==============================] - 34s 5ms/step - loss: 0.1431 - acc: 0.9471 - val_loss: 0.6079 - val_acc: 0.8772\n",
      "Epoch 25/30\n",
      "7352/7352 [==============================] - 35s 5ms/step - loss: 0.1479 - acc: 0.9513 - val_loss: 0.4775 - val_acc: 0.9087\n",
      "Epoch 26/30\n",
      "7352/7352 [==============================] - 35s 5ms/step - loss: 0.1615 - acc: 0.9495 - val_loss: 0.4750 - val_acc: 0.8989\n",
      "Epoch 27/30\n",
      "7352/7352 [==============================] - 35s 5ms/step - loss: 0.1437 - acc: 0.9504 - val_loss: 0.4298 - val_acc: 0.9165\n",
      "Epoch 28/30\n",
      "7352/7352 [==============================] - 34s 5ms/step - loss: 0.1378 - acc: 0.9486 - val_loss: 0.4512 - val_acc: 0.9040\n",
      "Epoch 29/30\n",
      "7352/7352 [==============================] - 34s 5ms/step - loss: 0.1416 - acc: 0.9478 - val_loss: 0.4676 - val_acc: 0.9077\n",
      "Epoch 30/30\n",
      "7352/7352 [==============================] - 34s 5ms/step - loss: 0.1310 - acc: 0.9542 - val_loss: 0.3926 - val_acc: 0.9050\n"
     ]
    },
    {
     "data": {
      "text/plain": [
       "<keras.callbacks.History at 0x7fab6077c208>"
      ]
     },
     "execution_count": 31,
     "metadata": {
      "tags": []
     },
     "output_type": "execute_result"
    }
   ],
   "source": [
    "# training the model\n",
    "model.fit(X_train,\n",
    "          Y_train,\n",
    "          batch_size=batch_size,\n",
    "          validation_data=(X_test, Y_test),\n",
    "          epochs=epochs)"
   ]
  },
  {
   "cell_type": "code",
   "execution_count": 0,
   "metadata": {
    "colab": {
     "base_uri": "https://localhost:8080/",
     "height": 302
    },
    "colab_type": "code",
    "id": "LyxAGRndQTxC",
    "outputId": "5e1cbf12-a8f5-4df0-85b8-b3b94a9ad5f5"
   },
   "outputs": [
    {
     "name": "stdout",
     "output_type": "stream",
     "text": [
      "Pred                LAYING  SITTING  STANDING  WALKING  WALKING_DOWNSTAIRS  \\\n",
      "True                                                                         \n",
      "LAYING                 510        0        25        0                   0   \n",
      "SITTING                  1      416        74        0                   0   \n",
      "STANDING                 0      100       430        2                   0   \n",
      "WALKING                  0        0         0      445                   7   \n",
      "WALKING_DOWNSTAIRS       0        0         0        0                 405   \n",
      "WALKING_UPSTAIRS         0        2         0        2                   6   \n",
      "\n",
      "Pred                WALKING_UPSTAIRS  \n",
      "True                                  \n",
      "LAYING                             2  \n",
      "SITTING                            0  \n",
      "STANDING                           0  \n",
      "WALKING                           44  \n",
      "WALKING_DOWNSTAIRS                15  \n",
      "WALKING_UPSTAIRS                 461  \n"
     ]
    }
   ],
   "source": [
    "# confusion Matrix\n",
    "print(confusion_matrix(Y_test, model.predict(X_test)))"
   ]
  },
  {
   "cell_type": "code",
   "execution_count": 0,
   "metadata": {
    "colab": {
     "base_uri": "https://localhost:8080/",
     "height": 34
    },
    "colab_type": "code",
    "id": "SpDpEqAIQTz9",
    "outputId": "cd2a04c4-d904-4316-8e34-3f0b552e8b0c"
   },
   "outputs": [
    {
     "name": "stdout",
     "output_type": "stream",
     "text": [
      "2947/2947 [==============================] - 2s 516us/step\n"
     ]
    }
   ],
   "source": [
    "score = model.evaluate(X_test, Y_test)"
   ]
  },
  {
   "cell_type": "code",
   "execution_count": 0,
   "metadata": {
    "colab": {
     "base_uri": "https://localhost:8080/",
     "height": 34
    },
    "colab_type": "code",
    "id": "S1zF-t-_Rdod",
    "outputId": "e718a889-72fe-4c2a-cac1-71f72fe82a2d"
   },
   "outputs": [
    {
     "data": {
      "text/plain": [
       "[0.39258112489413843, 0.9049881235154394]"
      ]
     },
     "execution_count": 34,
     "metadata": {
      "tags": []
     },
     "output_type": "execute_result"
    }
   ],
   "source": [
    "score"
   ]
  },
  {
   "cell_type": "markdown",
   "metadata": {
    "colab_type": "text",
    "id": "IRoKYoIsRgW1"
   },
   "source": [
    "<h1>MODEL 4 :- 1 LSTM with 64 hidden layers and 'adam' optimizer</h1>"
   ]
  },
  {
   "cell_type": "code",
   "execution_count": 0,
   "metadata": {
    "colab": {
     "base_uri": "https://localhost:8080/",
     "height": 235
    },
    "colab_type": "code",
    "id": "grELfiAvRdsj",
    "outputId": "e0f4d6ff-4d52-4ba7-c67d-a84daf174ab8"
   },
   "outputs": [
    {
     "name": "stdout",
     "output_type": "stream",
     "text": [
      "_________________________________________________________________\n",
      "Layer (type)                 Output Shape              Param #   \n",
      "=================================================================\n",
      "lstm_4 (LSTM)                (None, 64)                18944     \n",
      "_________________________________________________________________\n",
      "dropout_4 (Dropout)          (None, 64)                0         \n",
      "_________________________________________________________________\n",
      "dense_4 (Dense)              (None, 6)                 390       \n",
      "=================================================================\n",
      "Total params: 19,334\n",
      "Trainable params: 19,334\n",
      "Non-trainable params: 0\n",
      "_________________________________________________________________\n"
     ]
    }
   ],
   "source": [
    "# initiliazing the sequential model\n",
    "n_hidden = 64\n",
    "model = Sequential()\n",
    "# configuring the parameters\n",
    "model.add(LSTM(n_hidden, input_shape=(timesteps, input_dim)))\n",
    "# adding a dropout layer\n",
    "model.add(Dropout(0.5))\n",
    "# adding a dense output layer with sigmoid activation\n",
    "model.add(Dense(n_classes, activation='sigmoid'))\n",
    "model.summary()"
   ]
  },
  {
   "cell_type": "code",
   "execution_count": 0,
   "metadata": {
    "colab": {},
    "colab_type": "code",
    "id": "D9P8bbPuRd1C"
   },
   "outputs": [],
   "source": [
    "# compiling the model\n",
    "model.compile(loss='categorical_crossentropy',\n",
    "              optimizer='adam',\n",
    "              metrics=['accuracy'])"
   ]
  },
  {
   "cell_type": "code",
   "execution_count": 0,
   "metadata": {
    "colab": {
     "base_uri": "https://localhost:8080/",
     "height": 1058
    },
    "colab_type": "code",
    "id": "xyn9kzY_Rd5B",
    "outputId": "b50b1b8b-273f-44da-88a5-d1a3029ab3ce"
   },
   "outputs": [
    {
     "name": "stdout",
     "output_type": "stream",
     "text": [
      "Train on 7352 samples, validate on 2947 samples\n",
      "Epoch 1/30\n",
      "7352/7352 [==============================] - 36s 5ms/step - loss: 1.3701 - acc: 0.4083 - val_loss: 1.2693 - val_acc: 0.4252\n",
      "Epoch 2/30\n",
      "7352/7352 [==============================] - 35s 5ms/step - loss: 1.1306 - acc: 0.4939 - val_loss: 1.1024 - val_acc: 0.4954\n",
      "Epoch 3/30\n",
      "7352/7352 [==============================] - 35s 5ms/step - loss: 1.1857 - acc: 0.4827 - val_loss: 1.1866 - val_acc: 0.5199\n",
      "Epoch 4/30\n",
      "7352/7352 [==============================] - 35s 5ms/step - loss: 1.2605 - acc: 0.4780 - val_loss: 1.5138 - val_acc: 0.3685\n",
      "Epoch 5/30\n",
      "7352/7352 [==============================] - 35s 5ms/step - loss: 1.3377 - acc: 0.3815 - val_loss: 1.3315 - val_acc: 0.3865\n",
      "Epoch 6/30\n",
      "7352/7352 [==============================] - 35s 5ms/step - loss: 1.3095 - acc: 0.4090 - val_loss: 1.2647 - val_acc: 0.3916\n",
      "Epoch 7/30\n",
      "7352/7352 [==============================] - 34s 5ms/step - loss: 1.1188 - acc: 0.5091 - val_loss: 1.0288 - val_acc: 0.5568\n",
      "Epoch 8/30\n",
      "7352/7352 [==============================] - 34s 5ms/step - loss: 1.1462 - acc: 0.5375 - val_loss: 1.1301 - val_acc: 0.5422\n",
      "Epoch 9/30\n",
      "7352/7352 [==============================] - 35s 5ms/step - loss: 1.1948 - acc: 0.5513 - val_loss: 1.7232 - val_acc: 0.3054\n",
      "Epoch 10/30\n",
      "7352/7352 [==============================] - 34s 5ms/step - loss: 1.1965 - acc: 0.4874 - val_loss: 0.9766 - val_acc: 0.5718\n",
      "Epoch 11/30\n",
      "7352/7352 [==============================] - 35s 5ms/step - loss: 1.0473 - acc: 0.5348 - val_loss: 1.0907 - val_acc: 0.5558\n",
      "Epoch 12/30\n",
      "7352/7352 [==============================] - 35s 5ms/step - loss: 0.8689 - acc: 0.6138 - val_loss: 1.0785 - val_acc: 0.5117\n",
      "Epoch 13/30\n",
      "7352/7352 [==============================] - 34s 5ms/step - loss: 0.8164 - acc: 0.6355 - val_loss: 0.8197 - val_acc: 0.6067\n",
      "Epoch 14/30\n",
      "7352/7352 [==============================] - 35s 5ms/step - loss: 1.0105 - acc: 0.5517 - val_loss: 0.8802 - val_acc: 0.6040\n",
      "Epoch 15/30\n",
      "7352/7352 [==============================] - 34s 5ms/step - loss: 1.0987 - acc: 0.5275 - val_loss: 0.8612 - val_acc: 0.6132\n",
      "Epoch 16/30\n",
      "7352/7352 [==============================] - 34s 5ms/step - loss: 0.8189 - acc: 0.6147 - val_loss: 0.7830 - val_acc: 0.6559\n",
      "Epoch 17/30\n",
      "7352/7352 [==============================] - 34s 5ms/step - loss: 0.7594 - acc: 0.6525 - val_loss: 0.7297 - val_acc: 0.6753\n",
      "Epoch 18/30\n",
      "7352/7352 [==============================] - 35s 5ms/step - loss: 0.7321 - acc: 0.6763 - val_loss: 1.0758 - val_acc: 0.5589\n",
      "Epoch 19/30\n",
      "7352/7352 [==============================] - 35s 5ms/step - loss: 0.7840 - acc: 0.6492 - val_loss: 0.7469 - val_acc: 0.6773\n",
      "Epoch 20/30\n",
      "7352/7352 [==============================] - 35s 5ms/step - loss: 0.6723 - acc: 0.7010 - val_loss: 0.7351 - val_acc: 0.6875\n",
      "Epoch 21/30\n",
      "7352/7352 [==============================] - 35s 5ms/step - loss: 0.6716 - acc: 0.7044 - val_loss: 0.8404 - val_acc: 0.6607\n",
      "Epoch 22/30\n",
      "7352/7352 [==============================] - 35s 5ms/step - loss: 1.0892 - acc: 0.5616 - val_loss: 1.4184 - val_acc: 0.4421\n",
      "Epoch 23/30\n",
      "7352/7352 [==============================] - 36s 5ms/step - loss: 1.2110 - acc: 0.4920 - val_loss: 1.0510 - val_acc: 0.5215\n",
      "Epoch 24/30\n",
      "7352/7352 [==============================] - 35s 5ms/step - loss: 1.0229 - acc: 0.5669 - val_loss: 1.0318 - val_acc: 0.5351\n",
      "Epoch 25/30\n",
      "7352/7352 [==============================] - 35s 5ms/step - loss: 1.0204 - acc: 0.5482 - val_loss: 0.9714 - val_acc: 0.5599\n",
      "Epoch 26/30\n",
      "7352/7352 [==============================] - 35s 5ms/step - loss: 0.8897 - acc: 0.5926 - val_loss: 0.9317 - val_acc: 0.5602\n",
      "Epoch 27/30\n",
      "7352/7352 [==============================] - 35s 5ms/step - loss: 0.8181 - acc: 0.6129 - val_loss: 0.8863 - val_acc: 0.5738\n",
      "Epoch 28/30\n",
      "7352/7352 [==============================] - 35s 5ms/step - loss: 0.7723 - acc: 0.6344 - val_loss: 0.8422 - val_acc: 0.6084\n",
      "Epoch 29/30\n",
      "7352/7352 [==============================] - 35s 5ms/step - loss: 0.7353 - acc: 0.6459 - val_loss: 0.8084 - val_acc: 0.6006\n",
      "Epoch 30/30\n",
      "7352/7352 [==============================] - 35s 5ms/step - loss: 0.7936 - acc: 0.6257 - val_loss: 0.7947 - val_acc: 0.6054\n"
     ]
    },
    {
     "data": {
      "text/plain": [
       "<keras.callbacks.History at 0x7fab5f46f4a8>"
      ]
     },
     "execution_count": 37,
     "metadata": {
      "tags": []
     },
     "output_type": "execute_result"
    }
   ],
   "source": [
    "# training the model\n",
    "model.fit(X_train,\n",
    "          Y_train,\n",
    "          batch_size=batch_size,\n",
    "          validation_data=(X_test, Y_test),\n",
    "          epochs=epochs)"
   ]
  },
  {
   "cell_type": "code",
   "execution_count": 0,
   "metadata": {
    "colab": {
     "base_uri": "https://localhost:8080/",
     "height": 588
    },
    "colab_type": "code",
    "id": "5VuQqptmRd9e",
    "outputId": "a639d668-181e-453e-c0a7-d504d8a5436c"
   },
   "outputs": [
    {
     "name": "stdout",
     "output_type": "stream",
     "text": [
      "Pred                LAYING  SITTING  STANDING  WALKING  WALKING_DOWNSTAIRS  \\\n",
      "True                                                                         \n",
      "LAYING                 507        0         0        1                   0   \n",
      "SITTING                  0      393        78        4                   0   \n",
      "STANDING                 0      108       402       10                   0   \n",
      "WALKING                  0        0        15      194                   0   \n",
      "WALKING_DOWNSTAIRS       0        0         4      199                   1   \n",
      "WALKING_UPSTAIRS         0        3         7      174                   0   \n",
      "\n",
      "Pred                WALKING_UPSTAIRS  \n",
      "True                                  \n",
      "LAYING                            29  \n",
      "SITTING                           16  \n",
      "STANDING                          12  \n",
      "WALKING                          287  \n",
      "WALKING_DOWNSTAIRS               216  \n",
      "WALKING_UPSTAIRS                 287  \n",
      "Pred                LAYING  SITTING  STANDING  WALKING  WALKING_DOWNSTAIRS  \\\n",
      "True                                                                         \n",
      "LAYING                 507        0         0        1                   0   \n",
      "SITTING                  0      393        78        4                   0   \n",
      "STANDING                 0      108       402       10                   0   \n",
      "WALKING                  0        0        15      194                   0   \n",
      "WALKING_DOWNSTAIRS       0        0         4      199                   1   \n",
      "WALKING_UPSTAIRS         0        3         7      174                   0   \n",
      "\n",
      "Pred                WALKING_UPSTAIRS  \n",
      "True                                  \n",
      "LAYING                            29  \n",
      "SITTING                           16  \n",
      "STANDING                          12  \n",
      "WALKING                          287  \n",
      "WALKING_DOWNSTAIRS               216  \n",
      "WALKING_UPSTAIRS                 287  \n"
     ]
    }
   ],
   "source": [
    "# confusion Matrix\n",
    "print(confusion_matrix(Y_test, model.predict(X_test)))"
   ]
  },
  {
   "cell_type": "code",
   "execution_count": 0,
   "metadata": {
    "colab": {
     "base_uri": "https://localhost:8080/",
     "height": 50
    },
    "colab_type": "code",
    "id": "hEoNt8QkReAT",
    "outputId": "da05a9c7-b530-410a-c056-66a43325e65c"
   },
   "outputs": [
    {
     "name": "stdout",
     "output_type": "stream",
     "text": [
      "2947/2947 [==============================] - 1s 492us/step\n",
      "2947/2947 [==============================] - 1s 492us/step\n"
     ]
    }
   ],
   "source": [
    "score = model.evaluate(X_test, Y_test)"
   ]
  },
  {
   "cell_type": "code",
   "execution_count": 0,
   "metadata": {
    "colab": {
     "base_uri": "https://localhost:8080/",
     "height": 34
    },
    "colab_type": "code",
    "id": "3vFD2Ra2Rd7k",
    "outputId": "15ee6530-05f6-4644-ffa1-5eb20672ef3d"
   },
   "outputs": [
    {
     "data": {
      "text/plain": [
       "[0.7947044912984826, 0.6053613844587716]"
      ]
     },
     "execution_count": 40,
     "metadata": {
      "tags": []
     },
     "output_type": "execute_result"
    },
    {
     "data": {
      "text/plain": [
       "[0.7947044912984826, 0.6053613844587716]"
      ]
     },
     "execution_count": 40,
     "metadata": {
      "tags": []
     },
     "output_type": "execute_result"
    }
   ],
   "source": [
    "score"
   ]
  },
  {
   "cell_type": "markdown",
   "metadata": {
    "colab": {},
    "colab_type": "code",
    "id": "0SUGER9rVL1d"
   },
   "source": [
    "<h1>Conclusion :-</h1>"
   ]
  },
  {
   "cell_type": "code",
   "execution_count": 3,
   "metadata": {
    "colab": {},
    "colab_type": "code",
    "id": "uYm9VpoKVLxg"
   },
   "outputs": [
    {
     "name": "stdout",
     "output_type": "stream",
     "text": [
      "+-------+------------------+-----------+----------------+----------------+---------------+---------------+\n",
      "| Model | Number of Layers | Optimizer | Train log loss | Train Accuracy | Test log loss | Test Accuracy |\n",
      "+-------+------------------+-----------+----------------+----------------+---------------+---------------+\n",
      "|  LSTM |        32        |  rmsprop  |     0.2026     |     93.77      |     0.3421    |     90.63     |\n",
      "|  LSTM |        32        |    adam   |     0.2263     |     93.77      |     0.3264    |     89.48     |\n",
      "|  LSTM |        64        |  rmsprop  |     0.1310     |     95.42      |     0.3926    |     90.50     |\n",
      "|  LSTM |        64        |    adam   |     0.7936     |     62.57      |     0.7947    |     60.54     |\n",
      "+-------+------------------+-----------+----------------+----------------+---------------+---------------+\n"
     ]
    }
   ],
   "source": [
    "from prettytable import PrettyTable\n",
    "x = PrettyTable()\n",
    "x.field_names = [\"Model\", \"Number of Layers\",\"Optimizer\", \"Train log loss\",\"Train Accuracy\",\"Test log loss\",\"Test Accuracy\"]\n",
    "x.add_row([\"LSTM\",\"32\",\"rmsprop\",\"0.2026\",\"93.77\",\"0.3421\",\"90.63\"])\n",
    "x.add_row([\"LSTM\",\"32\",\"adam\",\"0.2263\",\"93.77\",\"0.3264\",\"89.48\"])\n",
    "x.add_row([\"LSTM\",\"64\",\"rmsprop\",\"0.1310\",\"95.42\",\"0.3926\",\"90.50\"])\n",
    "x.add_row([\"LSTM\",\"64\",\"adam\",\"0.7936\",\"62.57\",\"0.7947\",\"60.54\"])\n",
    "print (x)"
   ]
  },
  {
   "cell_type": "markdown",
   "metadata": {
    "colab": {},
    "colab_type": "code",
    "id": "8atvcLI8VLvQ"
   },
   "source": [
    "<h2>Steps Followed :-</h2>"
   ]
  },
  {
   "cell_type": "markdown",
   "metadata": {},
   "source": [
    "- Load the raw data.\n",
    "- Split the data into train and test.\n",
    "- Try out different LSTM models with different number of hidden layers and different optimizers.\n",
    "- Draw confusion matrix.\n",
    "- Print score of the predicted data.\n",
    "- At the end in conclusion section comapre each LSTM model."
   ]
  }
 ],
 "metadata": {
  "colab": {
   "collapsed_sections": [],
   "name": "HumanActivityRecognition.ipynb",
   "provenance": [],
   "version": "0.3.2"
  },
  "kernelspec": {
   "display_name": "Python 3",
   "language": "python",
   "name": "python3"
  },
  "language_info": {
   "codemirror_mode": {
    "name": "ipython",
    "version": 3
   },
   "file_extension": ".py",
   "mimetype": "text/x-python",
   "name": "python",
   "nbconvert_exporter": "python",
   "pygments_lexer": "ipython3",
   "version": "3.7.6"
  }
 },
 "nbformat": 4,
 "nbformat_minor": 1
}
